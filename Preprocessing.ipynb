{
 "cells": [
  {
   "cell_type": "code",
   "execution_count": null,
   "metadata": {},
   "outputs": [],
   "source": [
    "import pandas as pd\n",
    "import numpy as np\n",
    "import matplotlib.pyplot as plt\n",
    "import torch\n",
    "import os"
   ]
  },
  {
   "cell_type": "markdown",
   "metadata": {},
   "source": [
    "use the sentiment analysis to get feature of commits </br>\n",
    "tfidf/glove/weighted glove to find the word importance in the sentence </br>\n",
    "ngram </br>\n",
    "readbility scores </br>\n",
    "Word Ratios: Here we calculate 6 different ratios: </br>\n",
    "(i). Easy Words (as defined by Dale Chall Easy Words List) </br>\n",
    "(ii) Stop Words </br>\n",
    "(iii) Contractions (eg: aren’t, shouldn’t, etc) </br>\n",
    "(iv) Hyperbolic words (as defined by Chakraborthy et al eg: Amazing, Incredible etc) </br>\n",
    "(v) Clickbait Subjects (Chakraborthy et al define some noun/subjects that are more prevalent in clickbait titles like ‘Guys’, ‘Dogs’ etc) </br>\n",
    "(vi) Non Clickbait Subjects (same as above for Non-clickbait titles eg: India, Iran, Government etc)\n",
    "punctuation</br>\n",
    "reference:</br>\n",
    " https://towardsdatascience.com text-classification-with-extremely-small-datasets-333d322caee2 </br>"
   ]
  },
  {
   "cell_type": "markdown",
   "metadata": {},
   "source": [
    "read the csv file, dataset is in 7 labels: </br>\n",
    "0=Angry, 1=Disgust, 2=Fear, 3=Happy, 4=Sad, 5=Surprise, 6=Neutral."
   ]
  },
  {
   "cell_type": "code",
   "execution_count": null,
   "metadata": {},
   "outputs": [],
   "source": [
    "df = pd.read_csv('Dataset_FER2013/icml_face_data.csv')\n",
    "labels = ['Angry', 'Disgust', 'Fear', 'Happy', 'Sad', 'Surprise', 'Neutral']\n",
    "pixels = df['pixels']"
   ]
  },
  {
   "cell_type": "code",
   "execution_count": null,
   "metadata": {},
   "outputs": [],
   "source": [
    "def check_balance():\n",
    "    \n",
    "    "
   ]
  }
 ],
 "metadata": {
  "language_info": {
   "name": "python"
  },
  "orig_nbformat": 4
 },
 "nbformat": 4,
 "nbformat_minor": 2
}
